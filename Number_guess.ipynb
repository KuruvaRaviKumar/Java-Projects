{
  "nbformat": 4,
  "nbformat_minor": 0,
  "metadata": {
    "colab": {
      "provenance": [],
      "authorship_tag": "ABX9TyMSOya+p2PFgKHAD9Ud4QVa",
      "include_colab_link": true
    },
    "kernelspec": {
      "name": "python3",
      "display_name": "Python 3"
    },
    "language_info": {
      "name": "python"
    }
  },
  "cells": [
    {
      "cell_type": "markdown",
      "metadata": {
        "id": "view-in-github",
        "colab_type": "text"
      },
      "source": [
        "<a href=\"https://colab.research.google.com/github/KuruvaRaviKumar/Java-Projects/blob/main/Number_guess.ipynb\" target=\"_parent\"><img src=\"https://colab.research.google.com/assets/colab-badge.svg\" alt=\"Open In Colab\"/></a>"
      ]
    },
    {
      "cell_type": "code",
      "execution_count": null,
      "metadata": {
        "id": "C97ZCS44ZXXv"
      },
      "outputs": [],
      "source": [
        "import random\n",
        "\n",
        "def number_guessing_game():\n",
        "    print(\"\\nWelcome to the Number Guessing Game!\")\n",
        "    print(\"I'm thinking of a number between 1 and 100. Can you guess it?\")\n",
        "\n",
        "    # Random number generation\n",
        "    number_to_guess = random.randint(1, 100)\n",
        "    attempts = 0\n",
        "    guessed_correctly = False\n",
        "\n",
        "    while not guessed_correctly:\n",
        "        try:\n",
        "            # Get user input\n",
        "            user_guess = int(input(\"Enter your guess: \"))\n",
        "            attempts += 1\n",
        "\n",
        "            # Check if the guess is correct\n",
        "            if user_guess == number_to_guess:\n",
        "                print(f\"Congratulations! You guessed the number in {attempts} attempts!\")\n",
        "                guessed_correctly = True\n",
        "            elif user_guess < number_to_guess:\n",
        "                print(\"Higher! Try again.\")\n",
        "            else:\n",
        "                print(\"Lower! Try again.\")\n",
        "        except ValueError:\n",
        "            print(\"Invalid input. Please enter a valid number.\")\n",
        "\n",
        "if __name__ == \"__main__\":\n",
        "    number_guessing_game()\n"
      ]
    },
    {
      "cell_type": "markdown",
      "source": [
        "\n",
        "### Explanation of Features\n",
        "\n",
        "1. **Random Number Generation**:\n",
        "   - The `random.randint(1, 100)` function generates a random integer between 1 and 100.\n",
        "\n",
        "2. **User Input**:\n",
        "   - The program accepts user guesses using `input()`.\n",
        "   - Input is validated to ensure the user enters a valid integer.\n",
        "\n",
        "3. **Hint System**:\n",
        "   - The program compares the user's guess with the random number:\n",
        "     - If the guess is too low, it displays \"Higher!\".\n",
        "     - If the guess is too high, it displays \"Lower!\".\n",
        "\n",
        "4. **Loop for Multiple Attempts**:\n",
        "   - The game continues in a loop until the user guesses the correct number.\n",
        "   - The number of attempts is tracked and displayed when the game is won.\n",
        "\n",
        "5. **Error Handling**:\n",
        "   - If the user enters invalid input (e.g., letters or symbols), the program catches the error and prompts for a valid number.\n",
        "\n",
        "---\n",
        "\n",
        "### How It Works\n",
        "1. The program starts by welcoming the user and explaining the rules.\n",
        "2. A random number is generated, and the user is prompted to guess it.\n",
        "3. For each guess, the program provides feedback (\"higher\" or \"lower\") and counts the attempts.\n",
        "4. Once the user guesses correctly, the program congratulates them and shows the number of attempts taken.\n",
        "\n"
      ],
      "metadata": {
        "id": "r0e3rCq8ZwIJ"
      }
    }
  ]
}