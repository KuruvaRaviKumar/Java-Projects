{
  "nbformat": 4,
  "nbformat_minor": 0,
  "metadata": {
    "colab": {
      "provenance": [],
      "authorship_tag": "ABX9TyNeSd7gaQU3VonCxxtSqU+q",
      "include_colab_link": true
    },
    "kernelspec": {
      "name": "python3",
      "display_name": "Python 3"
    },
    "language_info": {
      "name": "python"
    }
  },
  "cells": [
    {
      "cell_type": "markdown",
      "metadata": {
        "id": "view-in-github",
        "colab_type": "text"
      },
      "source": [
        "<a href=\"https://colab.research.google.com/github/KuruvaRaviKumar/Java-Projects/blob/main/Basic_Calculator.ipynb\" target=\"_parent\"><img src=\"https://colab.research.google.com/assets/colab-badge.svg\" alt=\"Open In Colab\"/></a>"
      ]
    },
    {
      "cell_type": "code",
      "execution_count": null,
      "metadata": {
        "id": "PJFSuzemadLW"
      },
      "outputs": [],
      "source": [
        "def calculator():\n",
        "    print(\"\\nWelcome to the Basic Calculator!\")\n",
        "    print(\"You can perform addition (+), subtraction (-), multiplication (*), or division (/).\")\n",
        "    print(\"Type 'exit' to quit the calculator.\\n\")\n",
        "\n",
        "    while True:\n",
        "        try:\n",
        "            # Get user input for the first number\n",
        "            num1 = input(\"Enter the first number (or type 'exit' to quit): \")\n",
        "            if num1.lower() == 'exit':\n",
        "                print(\"Thank you for using the calculator. Goodbye!\")\n",
        "                break\n",
        "            num1 = float(num1)\n",
        "\n",
        "            # Get user input for the operation\n",
        "            operation = input(\"Enter the operation (+, -, *, /): \")\n",
        "            if operation not in ['+', '-', '*', '/']:\n",
        "                print(\"Invalid operation. Please enter one of +, -, *, or /.\")\n",
        "                continue\n",
        "\n",
        "            # Get user input for the second number\n",
        "            num2 = input(\"Enter the second number: \")\n",
        "            num2 = float(num2)\n",
        "\n",
        "            # Perform the calculation\n",
        "            if operation == '+':\n",
        "                result = num1 + num2\n",
        "            elif operation == '-':\n",
        "                result = num1 - num2\n",
        "            elif operation == '*':\n",
        "                result = num1 * num2\n",
        "            elif operation == '/':\n",
        "                if num2 == 0:\n",
        "                    print(\"Error: Division by zero is not allowed.\")\n",
        "                    continue\n",
        "                result = num1 / num2\n",
        "\n",
        "            # Display the result\n",
        "            print(f\"The result of {num1} {operation} {num2} is: {result}\\n\")\n",
        "        except ValueError:\n",
        "            print(\"Invalid input. Please enter numeric values.\\n\")\n",
        "\n",
        "if __name__ == \"__main__\":\n",
        "    calculator()\n"
      ]
    },
    {
      "cell_type": "markdown",
      "source": [
        "### Features and Details\n",
        "\n",
        "1. **User Input**:\n",
        "   - The user enters two numbers and chooses an arithmetic operation (+, -, *, /).\n",
        "   - The program handles input interactively.\n",
        "\n",
        "2. **Error Handling**:\n",
        "   - Ensures that invalid input (e.g., letters or symbols) is handled gracefully with a helpful message.\n",
        "   - Prevents the program from crashing due to bad input.\n",
        "\n",
        "3. **Division by Zero Prevention**:\n",
        "   - If the user attempts division by zero, the program warns them and prompts for new input.\n",
        "\n",
        "4. **Looping**:\n",
        "   - The calculator runs in a loop, allowing the user to perform multiple calculations until they type \"exit.\"\n",
        "\n",
        "### How It Works\n",
        "1. The program welcomes the user and explains the available operations.\n",
        "2. The user inputs two numbers and selects an operation.\n",
        "3. The program performs the calculation and displays the result.\n",
        "4. The loop continues until the user types \"exit\" to quit.\n"
      ],
      "metadata": {
        "id": "7QxJ7a92andB"
      }
    }
  ]
}